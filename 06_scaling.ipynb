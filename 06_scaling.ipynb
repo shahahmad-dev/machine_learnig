{
 "cells": [
  {
   "cell_type": "markdown",
   "id": "f736c41b",
   "metadata": {},
   "source": [
    "# 1. Standard Scaling"
   ]
  },
  {
   "cell_type": "code",
   "execution_count": 13,
   "id": "1a707ea2",
   "metadata": {},
   "outputs": [],
   "source": [
    "# import libraries\n",
    "import pandas as pd\n",
    "import numpy as np\n",
    "from sklearn.preprocessing import StandardScaler\n"
   ]
  },
  {
   "cell_type": "code",
   "execution_count": 14,
   "id": "cf58950d",
   "metadata": {},
   "outputs": [
    {
     "name": "stdout",
     "output_type": "stream",
     "text": [
      "   Age  Height  Weight\n",
      "0   15     150      45\n",
      "1   18     160      55\n",
      "2   21     165      60\n",
      "3   25     170      65\n",
      "4   30     175      70\n",
      "5   35     180      75\n",
      "6   40     185      80\n"
     ]
    }
   ],
   "source": [
    "import pandas as pd\n",
    "\n",
    "# Create a sample DataFrame\n",
    "data = {\n",
    "    'Age': [15, 18, 21, 25, 30, 35, 40],\n",
    "    'Height': [150, 160, 165, 170, 175, 180, 185],\n",
    "    'Weight': [45, 55, 60, 65, 70, 75, 80]\n",
    "}\n",
    "\n",
    "df = pd.DataFrame(data)\n",
    "\n",
    "print(df)\n"
   ]
  },
  {
   "cell_type": "code",
   "execution_count": 15,
   "id": "9395987d",
   "metadata": {},
   "outputs": [],
   "source": [
    "# import the scaler\n",
    "scaler = StandardScaler()\n",
    "\n",
    "# fit the scaler\n",
    "scaler_df = scaler.fit_transform(df)"
   ]
  },
  {
   "cell_type": "code",
   "execution_count": 16,
   "id": "23811a59",
   "metadata": {},
   "outputs": [
    {
     "data": {
      "text/plain": [
       "array([[-1.33078881, -1.72849788, -1.72849788],\n",
       "       [-0.97703482, -0.83223972, -0.83223972],\n",
       "       [-0.62328084, -0.38411064, -0.38411064],\n",
       "       [-0.15160885,  0.06401844,  0.06401844],\n",
       "       [ 0.43798113,  0.51214752,  0.51214752],\n",
       "       [ 1.02757111,  0.9602766 ,  0.9602766 ],\n",
       "       [ 1.61716109,  1.40840568,  1.40840568]])"
      ]
     },
     "execution_count": 16,
     "metadata": {},
     "output_type": "execute_result"
    }
   ],
   "source": [
    "scaler_df"
   ]
  },
  {
   "cell_type": "code",
   "execution_count": null,
   "id": "c0cbe90d",
   "metadata": {},
   "outputs": [],
   "source": [
    "# Converting array into dataframe\n",
    "new_df = pd.DataFrame(scaler_df)"
   ]
  },
  {
   "cell_type": "code",
   "execution_count": 18,
   "id": "20b3b66d",
   "metadata": {},
   "outputs": [
    {
     "data": {
      "text/html": [
       "<div>\n",
       "<style scoped>\n",
       "    .dataframe tbody tr th:only-of-type {\n",
       "        vertical-align: middle;\n",
       "    }\n",
       "\n",
       "    .dataframe tbody tr th {\n",
       "        vertical-align: top;\n",
       "    }\n",
       "\n",
       "    .dataframe thead th {\n",
       "        text-align: right;\n",
       "    }\n",
       "</style>\n",
       "<table border=\"1\" class=\"dataframe\">\n",
       "  <thead>\n",
       "    <tr style=\"text-align: right;\">\n",
       "      <th></th>\n",
       "      <th>0</th>\n",
       "      <th>1</th>\n",
       "      <th>2</th>\n",
       "    </tr>\n",
       "  </thead>\n",
       "  <tbody>\n",
       "    <tr>\n",
       "      <th>0</th>\n",
       "      <td>-1.330789</td>\n",
       "      <td>-1.728498</td>\n",
       "      <td>-1.728498</td>\n",
       "    </tr>\n",
       "    <tr>\n",
       "      <th>1</th>\n",
       "      <td>-0.977035</td>\n",
       "      <td>-0.832240</td>\n",
       "      <td>-0.832240</td>\n",
       "    </tr>\n",
       "    <tr>\n",
       "      <th>2</th>\n",
       "      <td>-0.623281</td>\n",
       "      <td>-0.384111</td>\n",
       "      <td>-0.384111</td>\n",
       "    </tr>\n",
       "    <tr>\n",
       "      <th>3</th>\n",
       "      <td>-0.151609</td>\n",
       "      <td>0.064018</td>\n",
       "      <td>0.064018</td>\n",
       "    </tr>\n",
       "    <tr>\n",
       "      <th>4</th>\n",
       "      <td>0.437981</td>\n",
       "      <td>0.512148</td>\n",
       "      <td>0.512148</td>\n",
       "    </tr>\n",
       "    <tr>\n",
       "      <th>5</th>\n",
       "      <td>1.027571</td>\n",
       "      <td>0.960277</td>\n",
       "      <td>0.960277</td>\n",
       "    </tr>\n",
       "    <tr>\n",
       "      <th>6</th>\n",
       "      <td>1.617161</td>\n",
       "      <td>1.408406</td>\n",
       "      <td>1.408406</td>\n",
       "    </tr>\n",
       "  </tbody>\n",
       "</table>\n",
       "</div>"
      ],
      "text/plain": [
       "          0         1         2\n",
       "0 -1.330789 -1.728498 -1.728498\n",
       "1 -0.977035 -0.832240 -0.832240\n",
       "2 -0.623281 -0.384111 -0.384111\n",
       "3 -0.151609  0.064018  0.064018\n",
       "4  0.437981  0.512148  0.512148\n",
       "5  1.027571  0.960277  0.960277\n",
       "6  1.617161  1.408406  1.408406"
      ]
     },
     "execution_count": 18,
     "metadata": {},
     "output_type": "execute_result"
    }
   ],
   "source": [
    "new_df"
   ]
  },
  {
   "cell_type": "code",
   "execution_count": null,
   "id": "1665b8bd",
   "metadata": {},
   "outputs": [],
   "source": []
  }
 ],
 "metadata": {
  "kernelspec": {
   "display_name": "python_ml",
   "language": "python",
   "name": "python3"
  },
  "language_info": {
   "codemirror_mode": {
    "name": "ipython",
    "version": 3
   },
   "file_extension": ".py",
   "mimetype": "text/x-python",
   "name": "python",
   "nbconvert_exporter": "python",
   "pygments_lexer": "ipython3",
   "version": "3.13.5"
  }
 },
 "nbformat": 4,
 "nbformat_minor": 5
}
