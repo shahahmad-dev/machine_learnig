{
 "cells": [
  {
   "cell_type": "code",
   "execution_count": null,
   "id": "97a1b6e6",
   "metadata": {},
   "outputs": [
    {
     "name": "stdout",
     "output_type": "stream",
     "text": [
      "----------------------------------------\n",
      "Here is the data with outliers:\n",
      "     Age   Z_score\n",
      "0    20 -0.938954\n",
      "1    21 -0.806396\n",
      "2    22 -0.673838\n",
      "3    23 -0.541280\n",
      "4    24 -0.408721\n",
      "5    25 -0.276163\n",
      "6    26 -0.143605\n",
      "7    27 -0.011047\n",
      "8    28  0.121512\n",
      "9    29  0.254070\n",
      "10   30  0.386628\n",
      "11   50  3.037793\n",
      "----------------------------------------\n",
      "Here are the outliers based on the z-score threshold, 3:\n",
      "     Age   Z_score\n",
      "11   50  3.037793\n",
      "Here is the data without outliers:\n",
      "     Age   Z_score\n",
      "0    20 -0.938954\n",
      "1    21 -0.806396\n",
      "2    22 -0.673838\n",
      "3    23 -0.541280\n",
      "4    24 -0.408721\n",
      "5    25 -0.276163\n",
      "6    26 -0.143605\n",
      "7    27 -0.011047\n",
      "8    28  0.121512\n",
      "9    29  0.254070\n",
      "10   30  0.386628\n"
     ]
    }
   ],
   "source": [
    "# Step 1: Import the required libraries\n",
    "import pandas as pd\n",
    "import numpy as np\n",
    "\n",
    "# Step 2: Create the data\n",
    "data = pd.DataFrame({'Age': [20, 21, 22, 23, 24, 25, 26, 27, 28, 29, 30, 50]})\n",
    "data.head(15)\n",
    "\n",
    "# Step 3: Calculate the mean and standard deviation\n",
    "mean = np.mean(data['Age'])\n",
    "std = np.std(data['Age'])\n",
    "\n",
    "# Step 4: Calculate the Z-Score\n",
    "data['Z_score'] = (data['Age'] - mean)/ std\n",
    "\n",
    "# Step 5: Print the data\n",
    "print(\"----------------------------------------\")\n",
    "print(f\"Here is the data with outliers:\\n {data}\")\n",
    "print(\"----------------------------------------\")\n",
    "\n",
    "# Step 6: Print the outliers\n",
    "print(f\"Here are the outliers based on the z-score threshold, 3:\\n {data[data['Z_score'] > 3 ]}\")\n",
    "\n",
    "# Step 7: Remove the outliers\n",
    "data = data[data['Z_score']<3]\n",
    "\n",
    "# Step 8: Print the data without outliers\n",
    "print(f\"Here is the data without outliers:\\n {data}\")\n",
    "\n",
    "\n"
   ]
  },
  {
   "cell_type": "code",
   "execution_count": null,
   "id": "dbd7cd68",
   "metadata": {},
   "outputs": [],
   "source": []
  }
 ],
 "metadata": {
  "kernelspec": {
   "display_name": "python_ml",
   "language": "python",
   "name": "python3"
  },
  "language_info": {
   "codemirror_mode": {
    "name": "ipython",
    "version": 3
   },
   "file_extension": ".py",
   "mimetype": "text/x-python",
   "name": "python",
   "nbconvert_exporter": "python",
   "pygments_lexer": "ipython3",
   "version": "3.13.5"
  }
 },
 "nbformat": 4,
 "nbformat_minor": 5
}
