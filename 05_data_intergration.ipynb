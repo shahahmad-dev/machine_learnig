{
 "cells": [
  {
   "cell_type": "code",
   "execution_count": 10,
   "id": "691f540b",
   "metadata": {},
   "outputs": [],
   "source": [
    "import pandas as pd\n",
    "\n",
    "# Create DataFrames\n",
    "students = pd.DataFrame({\n",
    "    'student_id': [1, 2, 3, 4, 5],\n",
    "    'name': ['Ali', 'Sara', 'Bilal', 'Ayesha', 'Ahmed'],\n",
    "    'age': [20, 21, 22, 23, 24],\n",
    "    'dept_id': [101, 102, 103, 101, 104]\n",
    "})\n"
   ]
  },
  {
   "cell_type": "code",
   "execution_count": 11,
   "id": "15c7fc8b",
   "metadata": {},
   "outputs": [],
   "source": [
    "departments = pd.DataFrame({\n",
    "    'dept_id': [101, 102, 103, 104],\n",
    "    'department_name': ['Computer Science', 'Mathematics', 'Physics', 'Data Science'],\n",
    "    'location': ['Lahore', 'Karachi', 'Islamabad', 'Peshawar']\n",
    "})"
   ]
  },
  {
   "cell_type": "code",
   "execution_count": 12,
   "id": "2a7bb449",
   "metadata": {},
   "outputs": [],
   "source": [
    "# Merge the DataFrames\n",
    "marge_df = pd.merge(students,departments, on='dept_id', how='inner')"
   ]
  },
  {
   "cell_type": "code",
   "execution_count": 13,
   "id": "1fbda756",
   "metadata": {},
   "outputs": [
    {
     "data": {
      "text/html": [
       "<div>\n",
       "<style scoped>\n",
       "    .dataframe tbody tr th:only-of-type {\n",
       "        vertical-align: middle;\n",
       "    }\n",
       "\n",
       "    .dataframe tbody tr th {\n",
       "        vertical-align: top;\n",
       "    }\n",
       "\n",
       "    .dataframe thead th {\n",
       "        text-align: right;\n",
       "    }\n",
       "</style>\n",
       "<table border=\"1\" class=\"dataframe\">\n",
       "  <thead>\n",
       "    <tr style=\"text-align: right;\">\n",
       "      <th></th>\n",
       "      <th>student_id</th>\n",
       "      <th>name</th>\n",
       "      <th>age</th>\n",
       "      <th>dept_id</th>\n",
       "      <th>department_name</th>\n",
       "      <th>location</th>\n",
       "    </tr>\n",
       "  </thead>\n",
       "  <tbody>\n",
       "    <tr>\n",
       "      <th>0</th>\n",
       "      <td>1</td>\n",
       "      <td>Ali</td>\n",
       "      <td>20</td>\n",
       "      <td>101</td>\n",
       "      <td>Computer Science</td>\n",
       "      <td>Lahore</td>\n",
       "    </tr>\n",
       "    <tr>\n",
       "      <th>1</th>\n",
       "      <td>2</td>\n",
       "      <td>Sara</td>\n",
       "      <td>21</td>\n",
       "      <td>102</td>\n",
       "      <td>Mathematics</td>\n",
       "      <td>Karachi</td>\n",
       "    </tr>\n",
       "    <tr>\n",
       "      <th>2</th>\n",
       "      <td>3</td>\n",
       "      <td>Bilal</td>\n",
       "      <td>22</td>\n",
       "      <td>103</td>\n",
       "      <td>Physics</td>\n",
       "      <td>Islamabad</td>\n",
       "    </tr>\n",
       "    <tr>\n",
       "      <th>3</th>\n",
       "      <td>4</td>\n",
       "      <td>Ayesha</td>\n",
       "      <td>23</td>\n",
       "      <td>101</td>\n",
       "      <td>Computer Science</td>\n",
       "      <td>Lahore</td>\n",
       "    </tr>\n",
       "    <tr>\n",
       "      <th>4</th>\n",
       "      <td>5</td>\n",
       "      <td>Ahmed</td>\n",
       "      <td>24</td>\n",
       "      <td>104</td>\n",
       "      <td>Data Science</td>\n",
       "      <td>Peshawar</td>\n",
       "    </tr>\n",
       "  </tbody>\n",
       "</table>\n",
       "</div>"
      ],
      "text/plain": [
       "   student_id    name  age  dept_id   department_name   location\n",
       "0           1     Ali   20      101  Computer Science     Lahore\n",
       "1           2    Sara   21      102       Mathematics    Karachi\n",
       "2           3   Bilal   22      103           Physics  Islamabad\n",
       "3           4  Ayesha   23      101  Computer Science     Lahore\n",
       "4           5   Ahmed   24      104      Data Science   Peshawar"
      ]
     },
     "execution_count": 13,
     "metadata": {},
     "output_type": "execute_result"
    }
   ],
   "source": [
    "marge_df"
   ]
  },
  {
   "cell_type": "code",
   "execution_count": null,
   "id": "874060ae",
   "metadata": {},
   "outputs": [],
   "source": []
  }
 ],
 "metadata": {
  "kernelspec": {
   "display_name": "python_ml",
   "language": "python",
   "name": "python3"
  },
  "language_info": {
   "codemirror_mode": {
    "name": "ipython",
    "version": 3
   },
   "file_extension": ".py",
   "mimetype": "text/x-python",
   "name": "python",
   "nbconvert_exporter": "python",
   "pygments_lexer": "ipython3",
   "version": "3.13.5"
  }
 },
 "nbformat": 4,
 "nbformat_minor": 5
}
