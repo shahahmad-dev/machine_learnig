{
 "cells": [
  {
   "cell_type": "code",
   "execution_count": 20,
   "id": "430651b7",
   "metadata": {},
   "outputs": [],
   "source": [
    "import pandas as pd"
   ]
  },
  {
   "cell_type": "code",
   "execution_count": 21,
   "id": "ba033510",
   "metadata": {},
   "outputs": [],
   "source": [
    "data = {\n",
    "    'date': ['2021-12-01', '01-12-2022', '2022/12/01', '12-01-2021'],\n",
    "    'country': ['USA', 'U.S.A.', 'America', 'United States'],\n",
    "    'name': ['Aammar', 'Amaar', 'Hamza', 'Hazma'],\n",
    "    'sales_2020': [100, 200, None, 200],\n",
    "    'sales_2021': [None, 150, 300, 150]\n",
    "}\n",
    "# make pandas dataframe\n",
    "df = pd.DataFrame(data)"
   ]
  },
  {
   "cell_type": "code",
   "execution_count": 22,
   "id": "ac8dda2e",
   "metadata": {},
   "outputs": [
    {
     "data": {
      "text/html": [
       "<div>\n",
       "<style scoped>\n",
       "    .dataframe tbody tr th:only-of-type {\n",
       "        vertical-align: middle;\n",
       "    }\n",
       "\n",
       "    .dataframe tbody tr th {\n",
       "        vertical-align: top;\n",
       "    }\n",
       "\n",
       "    .dataframe thead th {\n",
       "        text-align: right;\n",
       "    }\n",
       "</style>\n",
       "<table border=\"1\" class=\"dataframe\">\n",
       "  <thead>\n",
       "    <tr style=\"text-align: right;\">\n",
       "      <th></th>\n",
       "      <th>date</th>\n",
       "      <th>country</th>\n",
       "      <th>name</th>\n",
       "      <th>sales_2020</th>\n",
       "      <th>sales_2021</th>\n",
       "    </tr>\n",
       "  </thead>\n",
       "  <tbody>\n",
       "    <tr>\n",
       "      <th>0</th>\n",
       "      <td>2021-12-01</td>\n",
       "      <td>USA</td>\n",
       "      <td>Aammar</td>\n",
       "      <td>100.0</td>\n",
       "      <td>NaN</td>\n",
       "    </tr>\n",
       "    <tr>\n",
       "      <th>1</th>\n",
       "      <td>01-12-2022</td>\n",
       "      <td>U.S.A.</td>\n",
       "      <td>Amaar</td>\n",
       "      <td>200.0</td>\n",
       "      <td>150.0</td>\n",
       "    </tr>\n",
       "    <tr>\n",
       "      <th>2</th>\n",
       "      <td>2022/12/01</td>\n",
       "      <td>America</td>\n",
       "      <td>Hamza</td>\n",
       "      <td>NaN</td>\n",
       "      <td>300.0</td>\n",
       "    </tr>\n",
       "    <tr>\n",
       "      <th>3</th>\n",
       "      <td>12-01-2021</td>\n",
       "      <td>United States</td>\n",
       "      <td>Hazma</td>\n",
       "      <td>200.0</td>\n",
       "      <td>150.0</td>\n",
       "    </tr>\n",
       "  </tbody>\n",
       "</table>\n",
       "</div>"
      ],
      "text/plain": [
       "         date        country    name  sales_2020  sales_2021\n",
       "0  2021-12-01            USA  Aammar       100.0         NaN\n",
       "1  01-12-2022         U.S.A.   Amaar       200.0       150.0\n",
       "2  2022/12/01        America   Hamza         NaN       300.0\n",
       "3  12-01-2021  United States   Hazma       200.0       150.0"
      ]
     },
     "execution_count": 22,
     "metadata": {},
     "output_type": "execute_result"
    }
   ],
   "source": [
    "df.head()"
   ]
  },
  {
   "cell_type": "code",
   "execution_count": 23,
   "id": "502ecb51",
   "metadata": {},
   "outputs": [],
   "source": [
    "# standerdizing the data format\n",
    "df['date'] =  pd.to_datetime(df['date'], errors='coerce')"
   ]
  },
  {
   "cell_type": "code",
   "execution_count": 24,
   "id": "1a9a7505",
   "metadata": {},
   "outputs": [
    {
     "data": {
      "text/plain": [
       "0   2021-12-01\n",
       "1          NaT\n",
       "2          NaT\n",
       "3          NaT\n",
       "Name: date, dtype: datetime64[ns]"
      ]
     },
     "execution_count": 24,
     "metadata": {},
     "output_type": "execute_result"
    }
   ],
   "source": [
    "df['date'].head(\n",
    "    \n",
    ")"
   ]
  },
  {
   "cell_type": "markdown",
   "id": "1c46e828",
   "metadata": {},
   "source": [
    "# Filling the null value with the date `2021-12-01`"
   ]
  },
  {
   "cell_type": "code",
   "execution_count": 25,
   "id": "c6d64e84",
   "metadata": {},
   "outputs": [],
   "source": [
    "df['date'] = pd.to_datetime(df['date'].fillna('2021-12-01'))"
   ]
  },
  {
   "cell_type": "markdown",
   "id": "3fe45563",
   "metadata": {},
   "source": [
    "# Harmonize the name of the country"
   ]
  },
  {
   "cell_type": "code",
   "execution_count": null,
   "id": "c769dadc",
   "metadata": {},
   "outputs": [],
   "source": [
    "# first way\n",
    "df['country'] = df['country'].replace({\n",
    "    'U.S.A.': 'USA',\n",
    "    'America': 'USA',\n",
    "    'United States': 'USA'\n",
    "})\n"
   ]
  },
  {
   "cell_type": "code",
   "execution_count": 28,
   "id": "5276aeee",
   "metadata": {},
   "outputs": [],
   "source": [
    "# second way\n",
    "mapping_country = { 'U.S.A.': 'USA',\n",
    "                    'America': 'USA',\n",
    "                    'United States': 'USA'}\n",
    "\n",
    "df['country'] = df['country'].replace(mapping_country)"
   ]
  },
  {
   "cell_type": "code",
   "execution_count": 29,
   "id": "0e7d16d3",
   "metadata": {},
   "outputs": [
    {
     "data": {
      "text/html": [
       "<div>\n",
       "<style scoped>\n",
       "    .dataframe tbody tr th:only-of-type {\n",
       "        vertical-align: middle;\n",
       "    }\n",
       "\n",
       "    .dataframe tbody tr th {\n",
       "        vertical-align: top;\n",
       "    }\n",
       "\n",
       "    .dataframe thead th {\n",
       "        text-align: right;\n",
       "    }\n",
       "</style>\n",
       "<table border=\"1\" class=\"dataframe\">\n",
       "  <thead>\n",
       "    <tr style=\"text-align: right;\">\n",
       "      <th></th>\n",
       "      <th>date</th>\n",
       "      <th>country</th>\n",
       "      <th>name</th>\n",
       "      <th>sales_2020</th>\n",
       "      <th>sales_2021</th>\n",
       "    </tr>\n",
       "  </thead>\n",
       "  <tbody>\n",
       "    <tr>\n",
       "      <th>0</th>\n",
       "      <td>2021-12-01</td>\n",
       "      <td>USA</td>\n",
       "      <td>Aammar</td>\n",
       "      <td>100.0</td>\n",
       "      <td>NaN</td>\n",
       "    </tr>\n",
       "    <tr>\n",
       "      <th>1</th>\n",
       "      <td>2021-12-01</td>\n",
       "      <td>USA</td>\n",
       "      <td>Amaar</td>\n",
       "      <td>200.0</td>\n",
       "      <td>150.0</td>\n",
       "    </tr>\n",
       "    <tr>\n",
       "      <th>2</th>\n",
       "      <td>2021-12-01</td>\n",
       "      <td>USA</td>\n",
       "      <td>Hamza</td>\n",
       "      <td>NaN</td>\n",
       "      <td>300.0</td>\n",
       "    </tr>\n",
       "    <tr>\n",
       "      <th>3</th>\n",
       "      <td>2021-12-01</td>\n",
       "      <td>USA</td>\n",
       "      <td>Hazma</td>\n",
       "      <td>200.0</td>\n",
       "      <td>150.0</td>\n",
       "    </tr>\n",
       "  </tbody>\n",
       "</table>\n",
       "</div>"
      ],
      "text/plain": [
       "        date country    name  sales_2020  sales_2021\n",
       "0 2021-12-01     USA  Aammar       100.0         NaN\n",
       "1 2021-12-01     USA   Amaar       200.0       150.0\n",
       "2 2021-12-01     USA   Hamza         NaN       300.0\n",
       "3 2021-12-01     USA   Hazma       200.0       150.0"
      ]
     },
     "execution_count": 29,
     "metadata": {},
     "output_type": "execute_result"
    }
   ],
   "source": [
    "df.head()"
   ]
  },
  {
   "cell_type": "code",
   "execution_count": 31,
   "id": "67e437b1",
   "metadata": {},
   "outputs": [],
   "source": [
    "# Correct the typographical mistake in name\n",
    "name_change = {'Amaar': 'Aammar', 'Hazma':\"Hamza\" }\n",
    "df['name'] = df['name'].replace(name_change)"
   ]
  },
  {
   "cell_type": "code",
   "execution_count": 32,
   "id": "71b75eee",
   "metadata": {},
   "outputs": [
    {
     "data": {
      "text/html": [
       "<div>\n",
       "<style scoped>\n",
       "    .dataframe tbody tr th:only-of-type {\n",
       "        vertical-align: middle;\n",
       "    }\n",
       "\n",
       "    .dataframe tbody tr th {\n",
       "        vertical-align: top;\n",
       "    }\n",
       "\n",
       "    .dataframe thead th {\n",
       "        text-align: right;\n",
       "    }\n",
       "</style>\n",
       "<table border=\"1\" class=\"dataframe\">\n",
       "  <thead>\n",
       "    <tr style=\"text-align: right;\">\n",
       "      <th></th>\n",
       "      <th>date</th>\n",
       "      <th>country</th>\n",
       "      <th>name</th>\n",
       "      <th>sales_2020</th>\n",
       "      <th>sales_2021</th>\n",
       "    </tr>\n",
       "  </thead>\n",
       "  <tbody>\n",
       "    <tr>\n",
       "      <th>0</th>\n",
       "      <td>2021-12-01</td>\n",
       "      <td>USA</td>\n",
       "      <td>Aammar</td>\n",
       "      <td>100.0</td>\n",
       "      <td>NaN</td>\n",
       "    </tr>\n",
       "    <tr>\n",
       "      <th>1</th>\n",
       "      <td>2021-12-01</td>\n",
       "      <td>USA</td>\n",
       "      <td>Aammar</td>\n",
       "      <td>200.0</td>\n",
       "      <td>150.0</td>\n",
       "    </tr>\n",
       "    <tr>\n",
       "      <th>2</th>\n",
       "      <td>2021-12-01</td>\n",
       "      <td>USA</td>\n",
       "      <td>Hamza</td>\n",
       "      <td>NaN</td>\n",
       "      <td>300.0</td>\n",
       "    </tr>\n",
       "    <tr>\n",
       "      <th>3</th>\n",
       "      <td>2021-12-01</td>\n",
       "      <td>USA</td>\n",
       "      <td>Hamza</td>\n",
       "      <td>200.0</td>\n",
       "      <td>150.0</td>\n",
       "    </tr>\n",
       "  </tbody>\n",
       "</table>\n",
       "</div>"
      ],
      "text/plain": [
       "        date country    name  sales_2020  sales_2021\n",
       "0 2021-12-01     USA  Aammar       100.0         NaN\n",
       "1 2021-12-01     USA  Aammar       200.0       150.0\n",
       "2 2021-12-01     USA   Hamza         NaN       300.0\n",
       "3 2021-12-01     USA   Hamza       200.0       150.0"
      ]
     },
     "execution_count": 32,
     "metadata": {},
     "output_type": "execute_result"
    }
   ],
   "source": [
    "df.head()"
   ]
  },
  {
   "cell_type": "code",
   "execution_count": null,
   "id": "3313fbe1",
   "metadata": {},
   "outputs": [],
   "source": []
  }
 ],
 "metadata": {
  "kernelspec": {
   "display_name": "python_ml",
   "language": "python",
   "name": "python3"
  },
  "language_info": {
   "codemirror_mode": {
    "name": "ipython",
    "version": 3
   },
   "file_extension": ".py",
   "mimetype": "text/x-python",
   "name": "python",
   "nbconvert_exporter": "python",
   "pygments_lexer": "ipython3",
   "version": "3.13.5"
  }
 },
 "nbformat": 4,
 "nbformat_minor": 5
}
